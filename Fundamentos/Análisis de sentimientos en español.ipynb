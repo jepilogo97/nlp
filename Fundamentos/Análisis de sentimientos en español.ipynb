{
 "cells": [
  {
   "cell_type": "markdown",
   "id": "a913a5b9-29d6-4c2d-b66f-30c779bc0e72",
   "metadata": {},
   "source": [
    "# Análisis de sentimientos en español"
   ]
  },
  {
   "cell_type": "markdown",
   "id": "03e4f656-f019-4b34-89b6-9df0a54d91bc",
   "metadata": {},
   "source": [
    "##### Jean Pierre Londoño González\n",
    "##### Mini-proyecto de procesamiento de texto utilizando técnicas clásicas\n",
    "##### 16AGO2025"
   ]
  },
  {
   "cell_type": "markdown",
   "id": "52eea3a2-6c4e-4d28-8b05-c04fe5675dbf",
   "metadata": {},
   "source": [
    "### 1. Importación de librerias y carga de modelos"
   ]
  },
  {
   "cell_type": "markdown",
   "id": "dc0d546e-863c-4b1b-9c42-f019237c41c2",
   "metadata": {},
   "source": [
    "Inicio importando las librerías necesarias para el procesamiento de lenguaje natural, la traducción automática y la evaluación del modelo. Esto incluye spaCy para el análisis gramatical, deep_translator para traducir texto de español a inglés, y nltk junto con SentiWordNet para calcular puntajes de sentimiento. También se importan librerías de evaluación como sklearn.metrics para medir la precisión y generar reportes de clasificación."
   ]
  },
  {
   "cell_type": "code",
   "execution_count": 129,
   "id": "b62b3a05-c3c8-4601-9074-276925ee567f",
   "metadata": {},
   "outputs": [],
   "source": [
    "# Manejo de paquetes y recursos\n",
    "import pkg_resources  # Permite verificar versiones y dependencias de paquetes instalados\n",
    "\n",
    "# Procesamiento de lenguaje natural\n",
    "import spacy  # Biblioteca para NLP avanzada (tokenización, POS tagging, etc.)\n",
    "import pandas as pd  # Manipulación y análisis de datos en estructuras tipo DataFrame\n",
    "import warnings  # Control y filtrado de mensajes de advertencia\n",
    "from nltk.corpus import sentiwordnet as swn  # Léxico de sentimientos basado en WordNet\n",
    "from nltk.corpus import wordnet as wn  # Diccionario semántico de palabras en inglés\n",
    "from deep_translator import GoogleTranslator  # Traducción de texto usando Google Translate\n",
    "import nltk  # Biblioteca general de NLP para tokenización, stemming, etc.\n",
    "\n",
    "#  Métricas de evaluación\n",
    "from sklearn.metrics import accuracy_score, confusion_matrix, classification_report  # Métricas de evaluación\n",
    "\n",
    "# Desactiva advertencias para mantener limpia la salida\n",
    "warnings.filterwarnings('ignore')"
   ]
  },
  {
   "cell_type": "markdown",
   "id": "caef90ee-50d4-4149-b728-1e01b1c76f2a",
   "metadata": {},
   "source": [
    "A continuación, se realiza la descarga de los recursos necesarios de NLTK para el análisis semántico y el cálculo de puntajes de sentimiento. Esto incluye wordnet para acceder a la base de datos léxica de WordNet, sentiwordnet para obtener las puntuaciones positivas y negativas de cada término, y averaged_perceptron_tagger para el etiquetado gramatical. Estos modelos son indispensables para que el sistema pueda identificar correctamente la categoría gramatical de cada palabra y asignarle un puntaje de sentimiento adecuado."
   ]
  },
  {
   "cell_type": "code",
   "execution_count": 130,
   "id": "b54b882d-cdc2-41ae-a6f3-06a8cd80fa87",
   "metadata": {},
   "outputs": [
    {
     "name": "stderr",
     "output_type": "stream",
     "text": [
      "[nltk_data] Downloading package sentiwordnet to\n",
      "[nltk_data]     C:\\Users\\jepil\\AppData\\Roaming\\nltk_data...\n",
      "[nltk_data]   Package sentiwordnet is already up-to-date!\n",
      "[nltk_data] Downloading package wordnet to\n",
      "[nltk_data]     C:\\Users\\jepil\\AppData\\Roaming\\nltk_data...\n",
      "[nltk_data]   Package wordnet is already up-to-date!\n",
      "[nltk_data] Downloading package omw-1.4 to\n",
      "[nltk_data]     C:\\Users\\jepil\\AppData\\Roaming\\nltk_data...\n",
      "[nltk_data]   Package omw-1.4 is already up-to-date!\n"
     ]
    },
    {
     "data": {
      "text/plain": [
       "True"
      ]
     },
     "execution_count": 130,
     "metadata": {},
     "output_type": "execute_result"
    }
   ],
   "source": [
    "# Descarga de recursos necesarios de NLTK\n",
    "nltk.download('sentiwordnet')  # Léxico de sentimientos basado en WordNet\n",
    "nltk.download('wordnet')       # Base de datos léxica para relaciones semánticas\n",
    "nltk.download('omw-1.4')       # Open Multilingual Wordnet (traducciones y sinónimos)"
   ]
  },
  {
   "cell_type": "markdown",
   "id": "ce8d329b-1c5c-4894-a57d-1563ad7675bf",
   "metadata": {},
   "source": [
    "Se carga el modelo es_core_news_lg de spaCy, que incluye vectores de palabras preentrenados y capacidades avanzadas de análisis gramatical para el idioma español. Este modelo permite identificar tokens, realizar lematización, determinar la categoría gramatical (POS tagging) y extraer dependencias sintácticas, lo cual es esencial para el procesamiento y análisis semántico del texto en español."
   ]
  },
  {
   "cell_type": "code",
   "execution_count": 131,
   "id": "2aae04c7-06a1-4e8a-9fa6-27d611abda28",
   "metadata": {},
   "outputs": [],
   "source": [
    "# Cargar el modelo\n",
    "nlp = spacy.load('es_core_news_lg')"
   ]
  },
  {
   "cell_type": "markdown",
   "id": "3feaad0f-aaf9-4bc2-a396-f9152e949b6c",
   "metadata": {},
   "source": [
    "Se crea un dataset simulado compuesto por textos en español junto con sus respectivas etiquetas de clasificación de sentimiento: positivo y negativo. Este conjunto de datos sirve como base para realizar las pruebas y validaciones del modelo, permitiendo evaluar su capacidad de identificar y clasificar correctamente las emociones expresadas en los textos."
   ]
  },
  {
   "cell_type": "code",
   "execution_count": 132,
   "id": "9718a693-a180-4535-bc85-11bf2322a3fb",
   "metadata": {},
   "outputs": [],
   "source": [
    "training_data = [\n",
    "    # ==================== POSITIVO ====================\n",
    "    (\"Me encantó la película, la historia fue emocionante y los actores brillaron.\", \"positivo\"),\n",
    "    (\"La comida en ese lugar siempre me deja con una sonrisa, riquísima.\", \"positivo\"),\n",
    "    (\"Gracias al equipo de soporte por resolver mi problema en menos de 10 minutos.\", \"positivo\"),\n",
    "    (\"El nuevo diseño de la aplicación es muy intuitivo, me resulta facilísimo de usar.\", \"positivo\"),\n",
    "    (\"Disfruté muchísimo la conferencia, aprendí más de lo que esperaba.\", \"positivo\"),\n",
    "    (\"El paquete llegó antes de la fecha estimada, muy satisfecho.\", \"positivo\"),\n",
    "    (\"Es un placer trabajar con un equipo tan profesional y amable.\", \"positivo\"),\n",
    "    (\"El hotel tenía una vista espectacular al mar, volveré pronto.\", \"positivo\"),\n",
    "    (\"Me encanta cómo huele este perfume, es simplemente perfecto.\", \"positivo\"),\n",
    "    (\"Qué alegría recibir buenas noticias tan temprano en la mañana.\", \"positivo\"),\n",
    "    (\"Agradezco mucho la atención personalizada, me hicieron sentir importante.\", \"positivo\"),\n",
    "    (\"Este libro me atrapó desde la primera página, lectura recomendada.\", \"positivo\"),\n",
    "    (\"La música en vivo fue una experiencia que no olvidaré jamás.\", \"positivo\"),\n",
    "    (\"Todo el proceso de compra fue rápido y sin complicaciones.\", \"positivo\"),\n",
    "    (\"Me sorprendió gratamente el sabor de la bebida, deliciosa.\", \"positivo\"),\n",
    "    (\"El trato cordial y la rapidez hacen que siempre elija este lugar.\", \"positivo\"),\n",
    "    (\"La experiencia en el parque temático fue divertida de principio a fin.\", \"positivo\"),\n",
    "    (\"La presentación estuvo impecable, bien estructurada y clara.\", \"positivo\"),\n",
    "    (\"Estoy muy feliz con mi nuevo trabajo, todo es como lo soñaba.\", \"positivo\"),\n",
    "    (\"Recibir ese reconocimiento me motivó muchísimo a seguir mejorando.\", \"positivo\"),\n",
    "    (\"La atención al cliente superó todas mis expectativas.\", \"positivo\"),\n",
    "    (\"Me siento agradecido por la ayuda que me brindaron.\", \"positivo\"),\n",
    "    (\"El nuevo menú tiene combinaciones deliciosas, ¡vale la pena probarlo!\", \"positivo\"),\n",
    "    (\"La clase de hoy fue muy entretenida y bien explicada.\", \"positivo\"),\n",
    "    (\"El viaje a la montaña fue relajante y lleno de paisajes hermosos.\", \"positivo\"),\n",
    "    (\"El software funciona a la perfección, sin errores.\", \"positivo\"),\n",
    "    (\"Me siento inspirado después de escuchar esa charla motivacional.\", \"positivo\"),\n",
    "    (\"Las flores del jardín están más bonitas que nunca este año.\", \"positivo\"),\n",
    "    (\"Amo cómo decoraron la tienda para la temporada navideña.\", \"positivo\"),\n",
    "    (\"El servicio rápido y amable hace toda la diferencia.\", \"positivo\"),\n",
    "    (\"El pastel que preparaste estaba espectacular, suave y delicioso.\", \"positivo\"),\n",
    "    (\"La atención de los meseros fue impecable toda la noche.\", \"positivo\"),\n",
    "    (\"Mi computadora nueva es rapidísima, no se traba para nada.\", \"positivo\"),\n",
    "    (\"El envío llegó en perfectas condiciones, bien embalado.\", \"positivo\"),\n",
    "    (\"El curso online está muy bien explicado y con ejemplos claros.\", \"positivo\"),\n",
    "    (\"Las vistas desde el mirador son impresionantes.\", \"positivo\"),\n",
    "    (\"El ambiente en la cafetería es acogedor y relajante.\", \"positivo\"),\n",
    "    (\"El servicio técnico resolvió el problema en una sola llamada.\", \"positivo\"),\n",
    "    (\"Las vacaciones en la playa fueron exactamente lo que necesitaba.\", \"positivo\"),\n",
    "    (\"La exposición de arte fue inspiradora y bien organizada.\", \"positivo\"),\n",
    "    (\"El café de esta mañana estaba perfecto, justo como me gusta.\", \"positivo\"),\n",
    "    (\"El regalo que recibí fue muy especial y significativo.\", \"positivo\"),\n",
    "    (\"Me encanta el aroma de este jabón artesanal.\", \"positivo\"),\n",
    "    (\"El trato en la tienda fue muy cordial y profesional.\", \"positivo\"),\n",
    "    (\"El juego nuevo tiene gráficos espectaculares y buena jugabilidad.\", \"positivo\"),\n",
    "    (\"Me encantó cómo decoraron la sala para la reunión.\", \"positivo\"),\n",
    "    (\"La charla motivacional me dejó lleno de energía.\", \"positivo\"),\n",
    "    (\"La película me mantuvo al borde del asiento.\", \"positivo\"),\n",
    "    (\"El servicio de streaming funciona sin interrupciones.\", \"positivo\"),\n",
    "    (\"La biblioteca tiene una gran selección de libros interesantes.\", \"positivo\"),\n",
    "    (\"La cena de anoche fue una de las mejores que he probado.\", \"positivo\"),\n",
    "    (\"El taller fue práctico y fácil de seguir.\", \"positivo\"),\n",
    "    (\"El trato que recibí fue cálido y humano.\", \"positivo\"),\n",
    "    (\"Las clases de yoga me ayudaron a relajarme muchísimo.\", \"positivo\"),\n",
    "    (\"Me alegra haber tomado esta decisión, fue la correcta.\", \"positivo\"),\n",
    "    (\"El producto funciona tal como se describe, excelente compra.\", \"positivo\"),\n",
    "    (\"La conferencia tuvo ponentes muy preparados.\", \"positivo\"),\n",
    "    (\"El postre estaba delicioso y bien presentado.\", \"positivo\"),\n",
    "    (\"Me impresionó la rapidez de la entrega.\", \"positivo\"),\n",
    "    (\"El equipo de trabajo es muy colaborador.\", \"positivo\"),\n",
    "    (\"Me encantó la excursión por la montaña.\", \"positivo\"),\n",
    "    (\"El hotel tiene un spa increíble.\", \"positivo\"),\n",
    "    (\"El helado artesanal tiene un sabor único.\", \"positivo\"),\n",
    "    (\"El concierto estuvo lleno de energía.\", \"positivo\"),\n",
    "    (\"La tienda ofrece productos de gran calidad.\", \"positivo\"),\n",
    "    (\"La atención fue personalizada y amable.\", \"positivo\"),\n",
    "    (\"La serie que vi anoche es adictiva.\", \"positivo\"),\n",
    "    (\"El paquete llegó un día antes de lo esperado.\", \"positivo\"),\n",
    "    (\"El producto es mejor de lo que imaginaba.\", \"positivo\"),\n",
    "    (\"El nuevo menú es variado y delicioso.\", \"positivo\"),\n",
    "    (\"El servicio postventa fue rápido y efectivo.\", \"positivo\"),\n",
    "    (\"La vista desde la habitación era espectacular.\", \"positivo\"),\n",
    "    (\"El ambiente era relajado y acogedor.\", \"positivo\"),\n",
    "    (\"La música en el bar era excelente.\", \"positivo\"),\n",
    "    (\"El taller superó mis expectativas.\", \"positivo\"),\n",
    "    (\"El curso fue muy útil y claro.\", \"positivo\"),\n",
    "    (\"La decoración era preciosa y elegante.\", \"positivo\"),\n",
    "    (\"El café estaba recién hecho y delicioso.\", \"positivo\"),\n",
    "    (\"La experiencia fue agradable y enriquecedora.\", \"positivo\"),\n",
    "    (\"Me encanta visitar este lugar cada verano.\", \"positivo\"),\n",
    "    (\"Las atenciones que recibí fueron excelentes.\", \"positivo\"),\n",
    "    (\"El hotel cumplió todo lo prometido.\", \"positivo\"),\n",
    "    (\"La organización del evento fue impecable.\", \"positivo\"),\n",
    "    (\"Me alegró ver a tantos amigos reunidos.\", \"positivo\"),\n",
    "    (\"La limpieza del lugar era impecable.\", \"positivo\"),\n",
    "    (\"El chef preparó un plato espectacular.\", \"positivo\"),\n",
    "    (\"El clima de hoy es perfecto para caminar.\", \"positivo\"),\n",
    "    (\"El ambiente laboral es positivo y motivador.\", \"positivo\"),\n",
    "    (\"El producto es resistente y duradero.\", \"positivo\"),\n",
    "    (\"La atención fue rápida y eficiente.\", \"positivo\"),\n",
    "    (\"El parque estaba limpio y bien cuidado.\", \"positivo\"),\n",
    "    (\"El documental fue interesante y educativo.\", \"positivo\"),\n",
    "    (\"Me encantó el detalle del regalo.\", \"positivo\"),\n",
    "    (\"La comida estaba recién hecha y deliciosa.\", \"positivo\"),\n",
    "    (\"El servicio fue atento y rápido.\", \"positivo\"),\n",
    "    (\"La entrega fue puntual y sin problemas.\", \"positivo\"),\n",
    "    (\"El show fue divertido y emocionante.\", \"positivo\"),\n",
    "    (\"El curso me ayudó a mejorar mis habilidades.\", \"positivo\"),\n",
    "    (\"La experiencia de compra fue excelente.\", \"positivo\"),\n",
    "    (\"La ropa es de muy buena calidad.\", \"positivo\"),\n",
    "    # ==================== NEGATIVO ====================\n",
    "    (\"Odié la experiencia de atención al cliente, no resolvieron nada.\", \"negativo\"),\n",
    "    (\"La página web se congela cada vez que intento pagar.\", \"negativo\"),\n",
    "    (\"El ruido de la calle no me dejó dormir en toda la noche.\", \"negativo\"),\n",
    "    (\"La comida estaba fría cuando llegó a la mesa.\", \"negativo\"),\n",
    "    (\"El curso fue confuso y mal explicado.\", \"negativo\"),\n",
    "    (\"El transporte público estuvo lleno y fue incómodo.\", \"negativo\"),\n",
    "    (\"No recibí el reembolso que me prometieron.\", \"negativo\"),\n",
    "    (\"La tienda online no tiene un buen sistema de búsqueda.\", \"negativo\"),\n",
    "    (\"La película tuvo un final predecible y aburrido.\", \"negativo\"),\n",
    "    (\"El aire acondicionado no funcionaba en el hotel.\", \"negativo\"),\n",
    "    (\"El trato por parte del personal fue irrespetuoso.\", \"negativo\"),\n",
    "    (\"El paquete llegó abierto y con cosas faltantes.\", \"negativo\"),\n",
    "    (\"El sonido en el evento era pésimo.\", \"negativo\"),\n",
    "    (\"La habitación tenía manchas en las sábanas.\", \"negativo\"),\n",
    "    (\"El taxi me cobró más de lo indicado.\", \"negativo\"),\n",
    "    (\"El servicio técnico nunca respondió a mis mensajes.\", \"negativo\"),\n",
    "    (\"El nuevo parche del videojuego arruinó la jugabilidad.\", \"negativo\"),\n",
    "    (\"Las instrucciones del producto no son claras.\", \"negativo\"),\n",
    "    (\"El café estaba quemado y sabía amargo.\", \"negativo\"),\n",
    "    (\"El internet se desconecta constantemente.\", \"negativo\"),\n",
    "    (\"El restaurante no cumplió con mi reserva.\", \"negativo\"),\n",
    "    (\"La presentación fue demasiado larga y aburrida.\", \"negativo\"),\n",
    "    (\"El clima arruinó nuestras vacaciones.\", \"negativo\"),\n",
    "    (\"El software tiene demasiados errores y fallos.\", \"negativo\"),\n",
    "    (\"El empleado fue grosero y poco servicial.\", \"negativo\"),\n",
    "    (\"Las sillas del auditorio eran incómodas.\", \"negativo\"),\n",
    "    (\"El aeropuerto estaba desorganizado y con largas filas.\", \"negativo\"),\n",
    "    (\"El desayuno incluido era de mala calidad.\", \"negativo\"),\n",
    "    (\"La película estaba mal editada.\", \"negativo\"),\n",
    "    (\"El pedido llegó incompleto.\", \"negativo\"),\n",
    "    (\"La música del local estaba demasiado alta.\", \"negativo\"),\n",
    "    (\"La compra fue cancelada sin explicación.\", \"negativo\"),\n",
    "    (\"El producto no coincide con la descripción.\", \"negativo\"),\n",
    "    (\"La conferencia empezó con una hora de retraso.\", \"negativo\"),\n",
    "    (\"No pude entrar al evento porque se sobrevendió.\", \"negativo\"),\n",
    "    (\"El hotel no tenía agua caliente.\", \"negativo\"),\n",
    "    (\"El envío fue más caro que el producto.\", \"negativo\"),\n",
    "    (\"La llamada se cortaba todo el tiempo.\", \"negativo\"),\n",
    "    (\"El parque estaba lleno de basura.\", \"negativo\"),\n",
    "    (\"El dispositivo se sobrecalienta fácilmente.\", \"negativo\"),\n",
    "    (\"No había personal suficiente para atender a todos.\", \"negativo\"),\n",
    "    (\"El coche que alquilé tenía el tanque vacío.\", \"negativo\"),\n",
    "    (\"El trámite fue lento y burocrático.\", \"negativo\"),\n",
    "    (\"No pude conectarme a la red WiFi del lugar.\", \"negativo\"),\n",
    "    (\"La calidad del material era muy baja.\", \"negativo\"),\n",
    "    (\"El evento fue cancelado sin previo aviso.\", \"negativo\"),\n",
    "    (\"El cine estaba sucio y olía mal.\", \"negativo\"),\n",
    "    (\"La comida tardó demasiado en llegar.\", \"negativo\"),\n",
    "    (\"La mesa estaba pegajosa y sucia.\", \"negativo\"),\n",
    "    (\"El producto venía con piezas rotas.\", \"negativo\"),\n",
    "    (\"El espectáculo no cumplió mis expectativas.\", \"negativo\"),\n",
    "    (\"El precio era demasiado alto para lo que ofrecían.\", \"negativo\"),\n",
    "    (\"El bar estaba demasiado lleno y caluroso.\", \"negativo\"),\n",
    "    (\"El tour fue mal organizado.\", \"negativo\"),\n",
    "    (\"La luz se fue en medio de la cena.\", \"negativo\"),\n",
    "    (\"El transporte llegó tarde y sin disculpas.\", \"negativo\"),\n",
    "    (\"El servicio de atención telefónica fue inútil.\", \"negativo\"),\n",
    "    (\"El aroma del lugar era desagradable.\", \"negativo\"),\n",
    "    (\"El micrófono falló durante la presentación.\", \"negativo\"),\n",
    "    (\"La comida estaba recalentada.\", \"negativo\"),\n",
    "    (\"El pedido se perdió en el envío.\", \"negativo\"),\n",
    "    (\"El menú tenía muy pocas opciones.\", \"negativo\"),\n",
    "    (\"El pago con tarjeta no funcionaba.\", \"negativo\"),\n",
    "    (\"El cuarto de baño estaba descuidado.\", \"negativo\"),\n",
    "    (\"La aplicación se bloquea al iniciar.\", \"negativo\"),\n",
    "    (\"El vendedor no cumplió su palabra.\", \"negativo\"),\n",
    "    (\"El lugar estaba en remodelación y no avisaron.\", \"negativo\"),\n",
    "    (\"El ruido de las obras fue insoportable.\", \"negativo\"),\n",
    "    (\"El pedido llegó sin el empaque adecuado.\", \"negativo\"),\n",
    "    (\"El precio en caja era mayor que el anunciado.\", \"negativo\"),\n",
    "    (\"El sabor del postre era artificial.\", \"negativo\"),\n",
    "    (\"La fila para entrar era interminable.\", \"negativo\"),\n",
    "    (\"El personal no estaba capacitado.\", \"negativo\"),\n",
    "    (\"El aire estaba muy contaminado.\", \"negativo\"),\n",
    "    (\"El producto llegó con moho.\", \"negativo\"),\n",
    "    (\"La habitación tenía insectos.\", \"negativo\"),\n",
    "    (\"El servicio en línea nunca responde.\", \"negativo\"),\n",
    "    (\"El restaurante estaba cerrado sin aviso previo.\", \"negativo\"),\n",
    "    (\"El concierto fue interrumpido varias veces.\", \"negativo\"),\n",
    "    (\"La pantalla del televisor estaba rayada.\", \"negativo\"),\n",
    "    (\"El transporte no pasó a la hora indicada.\", \"negativo\"),\n",
    "    (\"La sopa estaba aguada y sin sabor.\", \"negativo\"),\n",
    "    (\"El hotel estaba en una zona peligrosa.\", \"negativo\"),\n",
    "    (\"El teléfono llegó sin cargador.\", \"negativo\"),\n",
    "    (\"El evento no tenía suficientes asientos.\", \"negativo\"),\n",
    "    (\"El equipo de sonido era de mala calidad.\", \"negativo\"),\n",
    "    (\"El museo estaba en remodelación y casi no había exhibiciones.\", \"negativo\"),\n",
    "    (\"El agua del grifo estaba turbia.\", \"negativo\"),\n",
    "    (\"La comida tenía un sabor extraño.\", \"negativo\"),\n",
    "    (\"El artículo tenía defectos de fábrica.\", \"negativo\"),\n",
    "    (\"El servicio fue lento y desorganizado.\", \"negativo\"),\n",
    "    (\"El lugar estaba mal iluminado.\", \"negativo\"),\n",
    "    (\"El producto vino en un color equivocado.\", \"negativo\"),\n",
    "    (\"El tour fue cancelado por mal clima, pero no devolvieron el dinero.\", \"negativo\"),\n",
    "    (\"El estacionamiento era muy costoso.\", \"negativo\"),\n",
    "    (\"El hotel no tenía internet en las habitaciones.\", \"negativo\"),\n",
    "    (\"El ambiente del local era incómodo.\", \"negativo\"),\n",
    "    (\"El pedido se retrasó por más de una semana.\", \"negativo\"),\n",
    "    (\"El servicio de streaming se detiene constantemente.\", \"negativo\"),\n",
    "    (\"El bar estaba muy sucio.\", \"negativo\"),\n",
    "]\n",
    "\n",
    "# Guardar\n",
    "df = pd.DataFrame(training_data, columns=[\"texto\", \"etiqueta\"])\n",
    "df.to_csv(\"dataset_sentimientos_100.csv\", index=False, encoding=\"utf-8\")\n"
   ]
  },
  {
   "cell_type": "markdown",
   "id": "7f3fda1e-3fff-46f5-8161-7b3ac27975d7",
   "metadata": {},
   "source": [
    "Guardo la información en un dataframe para facilitar su manipulación, análisis y procesamiento posterior."
   ]
  },
  {
   "cell_type": "markdown",
   "id": "7850c323-8381-483b-a739-0c4da917c56c",
   "metadata": {},
   "source": [
    "### 2. Cargue de datos"
   ]
  },
  {
   "cell_type": "code",
   "execution_count": 133,
   "id": "815bdbfe-f383-49ed-9edc-78f0b9335979",
   "metadata": {},
   "outputs": [
    {
     "data": {
      "text/html": [
       "<div>\n",
       "<style scoped>\n",
       "    .dataframe tbody tr th:only-of-type {\n",
       "        vertical-align: middle;\n",
       "    }\n",
       "\n",
       "    .dataframe tbody tr th {\n",
       "        vertical-align: top;\n",
       "    }\n",
       "\n",
       "    .dataframe thead th {\n",
       "        text-align: right;\n",
       "    }\n",
       "</style>\n",
       "<table border=\"1\" class=\"dataframe\">\n",
       "  <thead>\n",
       "    <tr style=\"text-align: right;\">\n",
       "      <th></th>\n",
       "      <th>texto</th>\n",
       "      <th>etiqueta</th>\n",
       "    </tr>\n",
       "  </thead>\n",
       "  <tbody>\n",
       "    <tr>\n",
       "      <th>0</th>\n",
       "      <td>Me encantó la película, la historia fue emocio...</td>\n",
       "      <td>positivo</td>\n",
       "    </tr>\n",
       "    <tr>\n",
       "      <th>1</th>\n",
       "      <td>La comida en ese lugar siempre me deja con una...</td>\n",
       "      <td>positivo</td>\n",
       "    </tr>\n",
       "    <tr>\n",
       "      <th>2</th>\n",
       "      <td>Gracias al equipo de soporte por resolver mi p...</td>\n",
       "      <td>positivo</td>\n",
       "    </tr>\n",
       "    <tr>\n",
       "      <th>3</th>\n",
       "      <td>El nuevo diseño de la aplicación es muy intuit...</td>\n",
       "      <td>positivo</td>\n",
       "    </tr>\n",
       "    <tr>\n",
       "      <th>4</th>\n",
       "      <td>Disfruté muchísimo la conferencia, aprendí más...</td>\n",
       "      <td>positivo</td>\n",
       "    </tr>\n",
       "  </tbody>\n",
       "</table>\n",
       "</div>"
      ],
      "text/plain": [
       "                                               texto  etiqueta\n",
       "0  Me encantó la película, la historia fue emocio...  positivo\n",
       "1  La comida en ese lugar siempre me deja con una...  positivo\n",
       "2  Gracias al equipo de soporte por resolver mi p...  positivo\n",
       "3  El nuevo diseño de la aplicación es muy intuit...  positivo\n",
       "4  Disfruté muchísimo la conferencia, aprendí más...  positivo"
      ]
     },
     "execution_count": 133,
     "metadata": {},
     "output_type": "execute_result"
    }
   ],
   "source": [
    "df = pd.read_csv('dataset_sentimientos_100.csv')\n",
    "df.head()"
   ]
  },
  {
   "cell_type": "markdown",
   "id": "3e71d3a3-ab0e-4b68-a0c8-b1c6818322af",
   "metadata": {},
   "source": [
    "Analizo la distribución de las clases para detectar posibles desbalances, garantizando que el modelo aprenda de manera equilibrada y evitando sesgos en la predicción."
   ]
  },
  {
   "cell_type": "code",
   "execution_count": 134,
   "id": "3a14eb75-5226-45bf-b39a-93f94b8dfb9d",
   "metadata": {},
   "outputs": [
    {
     "data": {
      "text/plain": [
       "etiqueta\n",
       "positivo    100\n",
       "negativo    100\n",
       "Name: count, dtype: int64"
      ]
     },
     "execution_count": 134,
     "metadata": {},
     "output_type": "execute_result"
    }
   ],
   "source": [
    "df.etiqueta.value_counts()"
   ]
  },
  {
   "cell_type": "markdown",
   "id": "d81e29d0-31a1-4fe4-9284-9e5a069f385a",
   "metadata": {},
   "source": [
    "### 3. Procesamiento NLP"
   ]
  },
  {
   "cell_type": "markdown",
   "id": "99f47457-4fa9-43f0-8d66-45f42fb2b2e5",
   "metadata": {},
   "source": [
    "Convierto la etiqueta POS generada por spaCy a su equivalente en WordNet, con el fin de facilitar tareas de procesamiento de lenguaje natural como lematización, análisis semántico y búsqueda de sinónimos.  \n",
    "### Parámetros:\n",
    "    spacy_pos (str): Etiqueta POS de spaCy (ej. 'NOUN', 'VERB', etc.)\n",
    "\n",
    "### Retorna:\n",
    "    str | None: Etiqueta POS en formato WordNet o None si no aplica."
   ]
  },
  {
   "cell_type": "code",
   "execution_count": 135,
   "id": "e5d67973-76e6-49f6-b80e-a4196c837d65",
   "metadata": {},
   "outputs": [],
   "source": [
    "def get_wordnet_pos(upos):\n",
    "    # Sustantivo\n",
    "    if upos.startswith('N'):\n",
    "        return wn.NOUN\n",
    "    # Verbo\n",
    "    elif upos.startswith('V'):\n",
    "        return wn.VERB\n",
    "    # Adjetivo\n",
    "    elif upos.startswith('J'):\n",
    "        return wn.ADJ\n",
    "    # Adverbio\n",
    "    elif upos.startswith('R'):\n",
    "        return wn.ADV\n",
    "    # Etiqueta no mapeada\n",
    "    else:\n",
    "        return None"
   ]
  },
  {
   "cell_type": "markdown",
   "id": "8d57426f-9c98-4211-b69e-6daa173c72b7",
   "metadata": {},
   "source": [
    "### 4. Score de sentimientos"
   ]
  },
  {
   "cell_type": "markdown",
   "id": "e55c18d9-b6b8-4db3-8ded-096c4285bda1",
   "metadata": {},
   "source": [
    "Se calcula el sentimiento de un texto en español mediante un flujo que incluye traducción automática al inglés, análisis morfosintáctico con spaCy, mapeo robusto de etiquetas POS a formato WordNet y asignación de puntajes desde SentiWordNet. El proceso incorpora lematización, búsqueda con y sin POS para mayor cobertura, y detección de negaciones para ajustar los puntajes, permitiendo así una evaluación semántica más precisa y coherente.\n",
    "\n",
    "### Flujo:\n",
    "    \n",
    "    Traduce el texto (es → en) usando GoogleTranslator.\n",
    "    Procesa con spaCy para obtener lemas y etiquetas POS.\n",
    "    Mapea POS a formato WordNet (con fallback sin POS si no hay coincidencia).\n",
    "    Calcula puntajes positivos y negativos desde SentiWordNet. \n",
    "    Ajusta puntajes si hay negaciones cercanas a la palabra\n",
    "\n",
    "### Parámetros:\n",
    "    text (str): Texto de entrada en español.\n",
    "\n",
    "### Retorna:\n",
    "    str: \"positivo\" o \"negativo\"."
   ]
  },
  {
   "cell_type": "code",
   "execution_count": 136,
   "id": "612ca0d2-16b4-454d-bd59-6c92ed7fd69b",
   "metadata": {},
   "outputs": [],
   "source": [
    "def sentiment_score(text):\n",
    "    # Traducir el texto de cualquier idioma al inglés (SentiWordNet en inglés)\n",
    "    translated = GoogleTranslator(source='auto', target='en').translate(text)\n",
    "\n",
    "    # Procesar el texto con spaCy para obtener tokens, lemas, POS, dependencias, etc.\n",
    "    doc = nlp(translated)\n",
    "\n",
    "    # Inicializar acumuladores de puntajes\n",
    "    pos_score = neg_score = 0\n",
    "    count = 0\n",
    "\n",
    "    # Lista de palabras de negación que invierten el sentido del sentimiento\n",
    "    negations = {\"not\", \"no\", \"never\", \"n't\", \"without\"}\n",
    "\n",
    "    # Recorrer cada token del texto traducido\n",
    "    for token in doc:\n",
    "        # Ignorar palabras vacías y signos de puntuación\n",
    "        if token.is_stop or token.is_punct:\n",
    "            continue\n",
    "\n",
    "        # Obtener lema en minúsculas\n",
    "        lemma = token.lemma_.lower()\n",
    "\n",
    "        # Obtener etiqueta POS adaptada a formato de WordNet (tag_ o pos_ como respaldo)\n",
    "        wn_pos = get_wordnet_pos(token.tag_) or get_wordnet_pos(token.pos_)\n",
    "\n",
    "        # Buscar synsets (significados) en WordNet con POS\n",
    "        synsets = wn.synsets(lemma, pos=wn_pos) if wn_pos else []\n",
    "\n",
    "        # Si no encuentra con POS, buscar sin especificar POS (fallback)\n",
    "        if not synsets:\n",
    "            synsets = wn.synsets(lemma)\n",
    "\n",
    "        # Si encuentra al menos un synset\n",
    "        if synsets:\n",
    "            try:\n",
    "                # Obtener el synset en SentiWordNet y sus puntajes positivo/negativo\n",
    "                swn_synset = swn.senti_synset(synsets[0].name())\n",
    "                token_pos = swn_synset.pos_score()\n",
    "                token_neg = swn_synset.neg_score()\n",
    "\n",
    "                # Ajustar puntajes si hay una palabra de negación a la izquierda del token\n",
    "                if any(t.text.lower() in negations for t in token.lefts):\n",
    "                    token_pos, token_neg = token_neg, token_pos  # Invertir puntajes\n",
    "\n",
    "                # Acumular puntajes en total\n",
    "                pos_score += token_pos\n",
    "                neg_score += token_neg\n",
    "                count += 1\n",
    "\n",
    "            except:\n",
    "                # Si hay error (por ejemplo, no existe en SentiWordNet) se ignora el token\n",
    "                continue\n",
    "\n",
    "    # Normalizar puntajes para obtener promedios\n",
    "    if count > 0:\n",
    "        pos_score /= count\n",
    "        neg_score /= count\n",
    "\n",
    "    # Clasificar: solo retorna positivo o negativo\n",
    "    return \"positivo\" if pos_score >= neg_score else \"negativo\""
   ]
  },
  {
   "cell_type": "markdown",
   "id": "c8f85c72-7c4f-45ad-b8f0-af8cbf9e9f18",
   "metadata": {},
   "source": [
    "Se aplica la función sentiment_score a cada texto del DataFrame, calculando la polaridad del sentimiento y almacenando el resultado en la columna 'prediccion' para su posterior análisis o evaluación del modelo."
   ]
  },
  {
   "cell_type": "code",
   "execution_count": 137,
   "id": "97f08781-6004-45f6-b443-08120ff2a966",
   "metadata": {},
   "outputs": [],
   "source": [
    "df[\"prediccion\"] = df[\"texto\"].apply(sentiment_score)"
   ]
  },
  {
   "cell_type": "markdown",
   "id": "ad64a891-061b-4503-b967-a887e9c55b74",
   "metadata": {},
   "source": [
    "### 5. Evaluación de desempeño del modelo"
   ]
  },
  {
   "cell_type": "code",
   "execution_count": 138,
   "id": "3ae5ae9a-5b6d-4e13-b1dc-96ee88e6bdff",
   "metadata": {},
   "outputs": [
    {
     "name": "stdout",
     "output_type": "stream",
     "text": [
      "Accuracy:\n",
      "0.705\n",
      "\n",
      "Classification Report:\n",
      "              precision    recall  f1-score   support\n",
      "\n",
      "    positivo       0.67      0.82      0.74       100\n",
      "    negativo       0.77      0.59      0.67       100\n",
      "\n",
      "    accuracy                           0.70       200\n",
      "   macro avg       0.72      0.70      0.70       200\n",
      "weighted avg       0.72      0.70      0.70       200\n",
      "\n",
      "Confusion Matrix:\n",
      "[[82 18]\n",
      " [41 59]]\n"
     ]
    }
   ],
   "source": [
    "# Etiquetas verdaderas y predicciones\n",
    "y_true = df.etiqueta.values\n",
    "y_pred = df.prediccion.values\n",
    "\n",
    "# Calcular accuracy\n",
    "acc = accuracy_score(y_true, y_pred)\n",
    "\n",
    "# Matriz de confusión para las tres clases\n",
    "cm = confusion_matrix(y_true, y_pred, labels=[\"positivo\", \"negativo\"])\n",
    "\n",
    "# Reporte de clasificación con precision, recall y f1-score\n",
    "cr = classification_report(y_true, y_pred, labels=[\"positivo\", \"negativo\"])\n",
    "\n",
    "# Mostrar resultados\n",
    "print(f\"Accuracy:\\n{acc}\\n\")\n",
    "print(f\"Classification Report:\\n{cr}\")\n",
    "print(f\"Confusion Matrix:\\n{cm}\")"
   ]
  },
  {
   "cell_type": "markdown",
   "id": "e79fb7a5-eb9a-4f0b-a261-6e4f1493ac7b",
   "metadata": {},
   "source": [
    "### 6. Resultados"
   ]
  },
  {
   "cell_type": "code",
   "execution_count": 139,
   "id": "f266bbbb-6b51-43f9-a0fc-50f0dc62191e",
   "metadata": {},
   "outputs": [
    {
     "name": "stdout",
     "output_type": "stream",
     "text": [
      "                                                 texto  etiqueta prediccion\n",
      "0    Me encantó la película, la historia fue emocio...  positivo   positivo\n",
      "1    La comida en ese lugar siempre me deja con una...  positivo   positivo\n",
      "2    Gracias al equipo de soporte por resolver mi p...  positivo   negativo\n",
      "3    El nuevo diseño de la aplicación es muy intuit...  positivo   positivo\n",
      "4    Disfruté muchísimo la conferencia, aprendí más...  positivo   positivo\n",
      "..                                                 ...       ...        ...\n",
      "195    El hotel no tenía internet en las habitaciones.  negativo   positivo\n",
      "196                El ambiente del local era incómodo.  negativo   negativo\n",
      "197        El pedido se retrasó por más de una semana.  negativo   positivo\n",
      "198  El servicio de streaming se detiene constantem...  negativo   negativo\n",
      "199                           El bar estaba muy sucio.  negativo   negativo\n",
      "\n",
      "[200 rows x 3 columns]\n"
     ]
    }
   ],
   "source": [
    "print(df)"
   ]
  },
  {
   "cell_type": "code",
   "execution_count": 140,
   "id": "5e3c31dd-b36f-4a04-af25-02ea41393339",
   "metadata": {},
   "outputs": [
    {
     "name": "stdout",
     "output_type": "stream",
     "text": [
      "                                                 texto  etiqueta prediccion\n",
      "2    Gracias al equipo de soporte por resolver mi p...  positivo   negativo\n",
      "11   Este libro me atrapó desde la primera página, ...  positivo   negativo\n",
      "12   La música en vivo fue una experiencia que no o...  positivo   negativo\n",
      "17   La presentación estuvo impecable, bien estruct...  positivo   negativo\n",
      "25   El software funciona a la perfección, sin erro...  positivo   negativo\n",
      "30   El pastel que preparaste estaba espectacular, ...  positivo   negativo\n",
      "31   La atención de los meseros fue impecable toda ...  positivo   negativo\n",
      "37   El servicio técnico resolvió el problema en un...  positivo   negativo\n",
      "46    La charla motivacional me dejó lleno de energía.  positivo   negativo\n",
      "52            El trato que recibí fue cálido y humano.  positivo   negativo\n",
      "53   Las clases de yoga me ayudaron a relajarme muc...  positivo   negativo\n",
      "66                 La serie que vi anoche es adictiva.  positivo   negativo\n",
      "72                El ambiente era relajado y acogedor.  positivo   negativo\n",
      "77            El café estaba recién hecho y delicioso.  positivo   negativo\n",
      "82           La organización del evento fue impecable.  positivo   negativo\n",
      "84                La limpieza del lugar era impecable.  positivo   negativo\n",
      "93          La comida estaba recién hecha y deliciosa.  positivo   negativo\n",
      "95             La entrega fue puntual y sin problemas.  positivo   negativo\n",
      "101  La página web se congela cada vez que intento ...  negativo   positivo\n",
      "108   La película tuvo un final predecible y aburrido.  negativo   positivo\n",
      "114               El taxi me cobró más de lo indicado.  negativo   positivo\n",
      "119          El internet se desconecta constantemente.  negativo   positivo\n",
      "126  El aeropuerto estaba desorganizado y con larga...  negativo   positivo\n",
      "127          El desayuno incluido era de mala calidad.  negativo   positivo\n",
      "129                        El pedido llegó incompleto.  negativo   positivo\n",
      "130         La música del local estaba demasiado alta.  negativo   positivo\n",
      "131           La compra fue cancelada sin explicación.  negativo   positivo\n",
      "135                   El hotel no tenía agua caliente.  negativo   positivo\n",
      "136             El envío fue más caro que el producto.  negativo   positivo\n",
      "137              La llamada se cortaba todo el tiempo.  negativo   positivo\n",
      "138                  El parque estaba lleno de basura.  negativo   positivo\n",
      "141        El coche que alquilé tenía el tanque vacío.  negativo   positivo\n",
      "142                El trámite fue lento y burocrático.  negativo   positivo\n",
      "144              La calidad del material era muy baja.  negativo   positivo\n",
      "145          El evento fue cancelado sin previo aviso.  negativo   positivo\n",
      "149                El producto venía con piezas rotas.  negativo   positivo\n",
      "151  El precio era demasiado alto para lo que ofrec...  negativo   positivo\n",
      "154                 La luz se fue en medio de la cena.  negativo   positivo\n",
      "160                   El pedido se perdió en el envío.  negativo   positivo\n",
      "161                  El menú tenía muy pocas opciones.  negativo   positivo\n",
      "168           El pedido llegó sin el empaque adecuado.  negativo   positivo\n",
      "169      El precio en caja era mayor que el anunciado.  negativo   positivo\n",
      "170                El sabor del postre era artificial.  negativo   positivo\n",
      "171              La fila para entrar era interminable.  negativo   positivo\n",
      "173                    El aire estaba muy contaminado.  negativo   positivo\n",
      "174                        El producto llegó con moho.  negativo   positivo\n",
      "175                      La habitación tenía insectos.  negativo   positivo\n",
      "177    El restaurante estaba cerrado sin aviso previo.  negativo   positivo\n",
      "178        El concierto fue interrumpido varias veces.  negativo   positivo\n",
      "183                    El teléfono llegó sin cargador.  negativo   positivo\n",
      "185           El equipo de sonido era de mala calidad.  negativo   positivo\n",
      "186  El museo estaba en remodelación y casi no habí...  negativo   positivo\n",
      "187                   El agua del grifo estaba turbia.  negativo   positivo\n",
      "188                  La comida tenía un sabor extraño.  negativo   positivo\n",
      "189             El artículo tenía defectos de fábrica.  negativo   positivo\n",
      "190             El servicio fue lento y desorganizado.  negativo   positivo\n",
      "194                El estacionamiento era muy costoso.  negativo   positivo\n",
      "195    El hotel no tenía internet en las habitaciones.  negativo   positivo\n",
      "197        El pedido se retrasó por más de una semana.  negativo   positivo\n"
     ]
    }
   ],
   "source": [
    "print(df[df[\"etiqueta\"] != df[\"prediccion\"]])"
   ]
  },
  {
   "cell_type": "markdown",
   "id": "427f8dfb-bc67-46f3-b86f-25624cf41d41",
   "metadata": {},
   "source": [
    "141 textos fueron etiquetados correctamente y 59 fueron mal clasificados, obteniendo un accuracy del 70%, lo que indica que el modelo tiene un desempeño aceptable pero con margen de mejora, especialmente en la reducción de falsos positivos y falsos negativos."
   ]
  },
  {
   "cell_type": "markdown",
   "id": "3fbdc0a0-d7ed-40ea-9e64-27a9d60843f1",
   "metadata": {},
   "source": [
    "##### Los casos donde no coincide la etiqueta con la predicción parece que no cuentan con alguna negación en el caso de los comentarios negativos. Por otro lado, parece que al modelo le cuesta más clasificar los casos positivos cuando son comentarios muy largos. "
   ]
  },
  {
   "cell_type": "markdown",
   "id": "1d582ab9-c92c-4796-a009-f30971ecec69",
   "metadata": {},
   "source": [
    "### 7. Conclusiones"
   ]
  },
  {
   "cell_type": "markdown",
   "id": "22d0c178-718e-4a1d-b41c-5b867d554937",
   "metadata": {},
   "source": [
    "#### Eficacia del flujo de análisis\n",
    "- El pipeline diseñado —traducción automática al inglés, análisis POS con spaCy, mapeo a WordNet y cálculo de puntajes con SentiWordNet— permitió evaluar el sentimiento de textos en español sin necesidad de un corpus entrenado específicamente en este idioma.\n",
    "\n",
    "#### Rendimiento del modelo\n",
    "- Se clasificaron correctamente 141 textos y 59 fueron mal clasificados, alcanzando un accuracy del 70%. Esto refleja un rendimiento moderado, útil como aproximación inicial, pero insuficiente para aplicaciones que requieran alta precisión.\n",
    "\n",
    "#### Limitaciones observadas\n",
    "\n",
    "- La traducción automática puede introducir cambios léxicos y semánticos que afectan la identificación de synsets y, por ende, los puntajes de sentimiento.\n",
    "- SentiWordNet presenta cobertura limitada para ciertas palabras poco comunes, coloquialismos o expresiones idiomáticas.\n",
    "- La estrategia de selección de synsets más relevantes aún es básica y podría mejorarse incorporando desambiguación semántica más robusta.\n",
    "\n",
    "#### Áreas de mejora\n",
    "\n",
    "- Implementar un modelo de sentiment analysis entrenado directamente en español para reducir el sesgo de la traducción.\n",
    "- Mejorar la desambiguación de sentidos de palabra para elegir synsets más representativos del contexto.\n",
    "- Incorporar manejo más avanzado de negaciones, intensificadores y sarcasmo.\n",
    "\n",
    "#### Valor práctico\n",
    "- A pesar de sus limitaciones, el método ofrece una solución funcional y relativamente sencilla para análisis de sentimiento en español, siendo un buen punto de partida para pruebas rápidas antes de migrar a soluciones más sofisticadas basadas en aprendizaje profundo."
   ]
  }
 ],
 "metadata": {
  "kernelspec": {
   "display_name": "Python 3 (ipykernel)",
   "language": "python",
   "name": "python3"
  },
  "language_info": {
   "codemirror_mode": {
    "name": "ipython",
    "version": 3
   },
   "file_extension": ".py",
   "mimetype": "text/x-python",
   "name": "python",
   "nbconvert_exporter": "python",
   "pygments_lexer": "ipython3",
   "version": "3.10.18"
  }
 },
 "nbformat": 4,
 "nbformat_minor": 5
}
